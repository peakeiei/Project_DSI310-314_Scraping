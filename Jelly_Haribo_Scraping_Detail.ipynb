{
 "cells": [
  {
   "cell_type": "markdown",
   "id": "dd38774b",
   "metadata": {},
   "source": [
    "# Install package ที่จำเป็นต้องใช้"
   ]
  },
  {
   "cell_type": "code",
   "execution_count": null,
   "id": "3ab0df40",
   "metadata": {
    "scrolled": true
   },
   "outputs": [],
   "source": [
    "!pip install selenium #selenium\n",
    "!pip install bs4 #beautiful soup"
   ]
  },
  {
   "cell_type": "markdown",
   "id": "59a2d630",
   "metadata": {},
   "source": [
    "# Import function ที่จำเป็น"
   ]
  },
  {
   "cell_type": "code",
   "execution_count": null,
   "id": "c9366b0e",
   "metadata": {},
   "outputs": [],
   "source": [
    "import pandas as pd\n",
    "from selenium import webdriver\n",
    "from selenium.webdriver.firefox.options import Options\n",
    "from selenium.webdriver.common.keys import Keys\n",
    "import bs4\n",
    "import time\n",
    "import re"
   ]
  },
  {
   "cell_type": "markdown",
   "id": "88e70010",
   "metadata": {},
   "source": [
    "# สร้าง Web driver ของ Chrome\n",
    "โดยการเช็ค Version Driver ก่อน Dowload \n",
    "https://chromedriver.chromium.org/downloads"
   ]
  },
  {
   "cell_type": "markdown",
   "id": "711d424b",
   "metadata": {},
   "source": [
    "เพื่อใช้ในการเปิด Website ที่ต้องการ Scraping ( Selenium เหมาะกับการใช้เปิด website ประเภท Dynamic Website )\n"
   ]
  },
  {
   "cell_type": "code",
   "execution_count": null,
   "id": "5f272fee",
   "metadata": {},
   "outputs": [],
   "source": [
    "driver = webdriver.Chrome(r\"/Users/peakeiei/Documents/set50/chromedriver\")\n",
    "driver.get('https://shopee.co.th/search?keyword=%E0%B8%82%E0%B8%A1%E0%B8%B4%E0%B9%89%E0%B8%99%E0%B8%8A%E0%B8%B1%E0%B8%99%E0%B9%81%E0%B8%84%E0%B8%9B%E0%B8%8B%E0%B8%B9%E0%B8%A5&trackingId=searchhint-1666687658-ae02f38a-5441-11ed-b594-2cea7f3d7543')\n",
    "driver\n"
   ]
  },
  {
   "cell_type": "markdown",
   "id": "247d58be",
   "metadata": {},
   "source": [
    "เรียกใช้ Selenium และเปิดเว็ปที่ต้องการ srap ซึ่ง website ที่ใช้ Shopee จะมีหน้าในการเลือกภาษาและ Zoomout page เพื่อโหลดข้อมูล \n",
    "( ขั้นตอนนี้ขึ้นอยู่แต่ละ website ที่จะนำไป scrap ) "
   ]
  },
  {
   "cell_type": "code",
   "execution_count": null,
   "id": "e7072a81",
   "metadata": {},
   "outputs": [],
   "source": [
    "#เลือกภาษาไทย Selenium\n",
    "thai_button = driver.find_element(\"xpath\",'/html/body/div[2]/div[1]/div[1]/div/div[3]/div[1]/button').click()\n",
    "time.sleep(6)"
   ]
  },
  {
   "cell_type": "code",
   "execution_count": null,
   "id": "9d04c9fe",
   "metadata": {},
   "outputs": [],
   "source": [
    "#Zoom out เพื่อให้ load ทั่วหน้าจอ\n",
    "driver.execute_script(\"document.body.style.MozTransform='scale(0.1)';\")\n",
    "driver.execute_script('document.body.style.MozTransformOrigin = \"0 0\";')"
   ]
  },
  {
   "cell_type": "markdown",
   "id": "f4e13c94",
   "metadata": {},
   "source": [
    "# เริ่มต้นขั้นตอน Scraping โดยใช้ BS4"
   ]
  },
  {
   "cell_type": "code",
   "execution_count": null,
   "id": "d8a60549",
   "metadata": {},
   "outputs": [],
   "source": [
    "data = driver.page_source #ดึงข้อมูลจากหน้าเว็บ\n",
    "soup = bs4.BeautifulSoup(data) #จัดในรูปแบบ BeautifulSoup\n",
    "time.sleep(6)"
   ]
  },
  {
   "cell_type": "code",
   "execution_count": null,
   "id": "93481a5f",
   "metadata": {},
   "outputs": [],
   "source": [
    "soup.select(\".row>div\") #css selector"
   ]
  },
  {
   "cell_type": "code",
   "execution_count": null,
   "id": "0b366541",
   "metadata": {},
   "outputs": [],
   "source": [
    "el=soup.select(\".row>div\")"
   ]
  },
  {
   "cell_type": "code",
   "execution_count": null,
   "id": "14f975dc",
   "metadata": {},
   "outputs": [],
   "source": [
    "len(el)"
   ]
  },
  {
   "cell_type": "markdown",
   "id": "934c0218",
   "metadata": {},
   "source": [
    "ทดลอง Scrap ชื่อสินค้า"
   ]
  },
  {
   "cell_type": "code",
   "execution_count": null,
   "id": "c36a2a64",
   "metadata": {},
   "outputs": [],
   "source": [
    "e = el[0] #แทนกล่องของสินค้าแต่ละกล่อง"
   ]
  },
  {
   "cell_type": "code",
   "execution_count": null,
   "id": "5aa138c9",
   "metadata": {},
   "outputs": [],
   "source": [
    "#ดึงข้อมูลชื่อ\n",
    "e.select_one(\"div.col-xs-2-4:nth-child(1) > a:nth-child(1) > div:nth-child(1) > div:nth-child(1) > div:nth-child(2) > div:nth-child(1)\").text.strip()"
   ]
  },
  {
   "cell_type": "markdown",
   "id": "10fdc740",
   "metadata": {},
   "source": [
    "ทอลอง Scrap ราคา"
   ]
  },
  {
   "cell_type": "code",
   "execution_count": null,
   "id": "ab09d5f5",
   "metadata": {},
   "outputs": [],
   "source": [
    "#ราคา A baht - B baht, ราคาเต็ม\n",
    "e.select_one(\"div.col-xs-2-4:nth-child(1) > a:nth-child(1) > div:nth-child(1) > div:nth-child(1) > div:nth-child(2) > div:nth-child(2)\").text.strip()"
   ]
  },
  {
   "cell_type": "code",
   "execution_count": null,
   "id": "eb07263a",
   "metadata": {},
   "outputs": [],
   "source": [
    "#รวม ราคาถูกสุด\n",
    "try:\n",
    "    p = e.select_one(\"div.col-xs-2-4:nth-child(1) > a:nth-child(1) > div:nth-child(1) > div:nth-child(1) > div:nth-child(2) > div:nth-child(2)\").text.strip()\n",
    "except:\n",
    "    p = e.select_one(\"div.col-xs-2-4:nth-child(1) > a:nth-child(1) > div:nth-child(1) > div:nth-child(1) > div:nth-child(2) > div:nth-child(2)\").text.strip()\n",
    "p = p.replace(\",\", \"\").replace(\"฿\", \"\").replace(\" \", \"\")\n",
    "try:\n",
    "    start_price = float(p)\n",
    "except:\n",
    "    price = p.rpartition('-')[0]\n",
    "    start_price = float(price)\n",
    "\n",
    "start_price"
   ]
  },
  {
   "cell_type": "markdown",
   "id": "db8e5cd0",
   "metadata": {},
   "source": [
    "ทดลอง Scrap ยอดขาย\n"
   ]
  },
  {
   "cell_type": "code",
   "execution_count": null,
   "id": "6f91afff",
   "metadata": {},
   "outputs": [],
   "source": [
    "#Scrape ยอดขาย\n",
    "sales = e.select_one(\"div.col-xs-2-4:nth-child(1) > a:nth-child(1) > div:nth-child(1) > div:nth-child(1) > div:nth-child(2) > div:nth-child(3) > div:nth-child(2)\").text.strip().replace(\"พัน\",\"000\").replace(\"ล้าน\",\"000000\")\n",
    "try:\n",
    "    sales = float(re.sub('\\D','',sales))\n",
    "except:\n",
    "    sales = 0\n",
    "sales"
   ]
  },
  {
   "cell_type": "markdown",
   "id": "0bf7bfb6",
   "metadata": {},
   "source": [
    "ทดลอง Scrap จังหวัด"
   ]
  },
  {
   "cell_type": "code",
   "execution_count": null,
   "id": "c394b481",
   "metadata": {},
   "outputs": [],
   "source": [
    "#Scrape จังหวัด\n",
    "#จังหวัด\n",
    "e.select_one(\"div.col-xs-2-4:nth-child(1) > a:nth-child(1) > div:nth-child(1) > div:nth-child(1) > div:nth-child(2) > div:nth-child(4)\").text.strip()"
   ]
  },
  {
   "cell_type": "markdown",
   "id": "5427ae7b",
   "metadata": {},
   "source": [
    "## นำขั้นตอนการเก็บข้อมูลทั้งหมดมาเข้า Loop เพื่อทำการ Scrap สินค้าทั้งหมดในทุกหน้า"
   ]
  },
  {
   "cell_type": "code",
   "execution_count": null,
   "id": "f23fa944",
   "metadata": {},
   "outputs": [],
   "source": [
    "time.sleep(6)\n",
    "records=[]\n",
    "for i in range(1):\n",
    "    data = driver.page_source\n",
    "    soup = bs4.BeautifulSoup(data)\n",
    "    el=soup.select(\".row>div\")\n",
    "    for e in el:\n",
    "        name = e.select_one(\"div.col-xs-2-4 > a:nth-child(1) > div:nth-child(1) > div:nth-child(1) > div:nth-child(2) > div:nth-child(1) > div:nth-child(1) > div:nth-child(1)\").text.strip()\n",
    "        try:\n",
    "            p = e.select_one(\"div.col-xs-2-4 > a > div:nth-child(1) > div:nth-child(1) > div:nth-child(2) > div:nth-child(2) > div:nth-child(2)\").text.strip()\n",
    "            if p == '':\n",
    "                print(1/0)\n",
    "        except:\n",
    "            p = e.select_one(\"div.col-xs-2-4 > a:nth-child(1) > div:nth-child(1) > div:nth-child(1) > div:nth-child(2) > div:nth-child(2) > div:nth-child(1)\").text.strip()\n",
    "        p = p.replace(\",\", \"\").replace(\"฿\", \"\").replace(\" \", \"\")\n",
    "        try:\n",
    "            start_price = float(p)\n",
    "        except:\n",
    "            price = p.rpartition('-')[0]\n",
    "            start_price = float(price)\n",
    "\n",
    "        sales = e.select_one(\"div.col-xs-2-4 > a:nth-child(1) > div:nth-child(1) > div:nth-child(1) > div:nth-child(2) > div:nth-child(3)\").text.strip().replace(\"พัน\",\"000\").replace(\"ล้าน\",\"000000\")\n",
    "        try:\n",
    "            sales = float(re.sub('\\D','',sales))\n",
    "        except:\n",
    "            sales = 0\n",
    "        province = e.select_one(\"div.col-xs-2-4 > a:nth-child(1) > div:nth-child(1) > div:nth-child(1) > div:nth-child(2) > div:nth-child(4)\").text.strip()\n",
    "        #print(name, p)\n",
    "        records.append([name, start_price,sales,province])"
   ]
  },
  {
   "cell_type": "code",
   "execution_count": null,
   "id": "feed21da",
   "metadata": {},
   "outputs": [],
   "source": [
    "len(records)"
   ]
  },
  {
   "cell_type": "markdown",
   "id": "3640ef6a",
   "metadata": {},
   "source": [
    "## นำข้อมูลที่ได้ใส่ลงใน DataFrame"
   ]
  },
  {
   "cell_type": "code",
   "execution_count": null,
   "id": "4b7e331e",
   "metadata": {},
   "outputs": [],
   "source": [
    "#ทำเป็น DataFrame\n",
    "df = pd.DataFrame(records, columns=['itemname','price range','sales','province'])\n",
    "df"
   ]
  },
  {
   "cell_type": "markdown",
   "id": "3532e6f5",
   "metadata": {},
   "source": [
    "แปลงเป็นไฟล์ Excel บันทึกอักษรเป็นแบบ มาตรฐาน UTF-8"
   ]
  },
  {
   "cell_type": "code",
   "execution_count": null,
   "id": "d85e37f0",
   "metadata": {},
   "outputs": [],
   "source": [
    "df.to_excel('Shopee_Computer.xlsx', encoding='utf-8')"
   ]
  }
 ],
 "metadata": {
  "kernelspec": {
   "display_name": "Python 3",
   "language": "python",
   "name": "python3"
  },
  "language_info": {
   "codemirror_mode": {
    "name": "ipython",
    "version": 3
   },
   "file_extension": ".py",
   "mimetype": "text/x-python",
   "name": "python",
   "nbconvert_exporter": "python",
   "pygments_lexer": "ipython3",
   "version": "3.8.3"
  },
  "vscode": {
   "interpreter": {
    "hash": "19d1d53a962d236aa061289c2ac16dc8e6d9648c89fe79f459ae9a3493bc67b4"
   }
  }
 },
 "nbformat": 4,
 "nbformat_minor": 5
}
